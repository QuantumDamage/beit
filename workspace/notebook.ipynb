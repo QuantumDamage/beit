{
 "cells": [
  {
   "cell_type": "code",
   "execution_count": null,
   "metadata": {
    "ExecuteTime": {
     "end_time": "2018-04-21T13:33:39.321793Z",
     "start_time": "2018-04-21T13:33:27.344109Z"
    }
   },
   "outputs": [],
   "source": [
    "from tpot import TPOTRegressor\n",
    "from tpot import TPOTClassifier\n",
    "\n",
    "import pandas as pd\n",
    "import numpy as np\n",
    "\n",
    "from sklearn.model_selection import train_test_split\n",
    "from sklearn.metrics.scorer import make_scorer\n",
    "\n",
    "from sklearn.tree import DecisionTreeRegressor\n",
    "from sklearn.tree import DecisionTreeClassifier\n",
    "\n",
    "from sklearn.metrics import mean_squared_error\n",
    "from sklearn.metrics import accuracy_score"
   ]
  },
  {
   "cell_type": "code",
   "execution_count": null,
   "metadata": {
    "ExecuteTime": {
     "end_time": "2018-04-21T13:33:39.602304Z",
     "start_time": "2018-04-21T13:33:39.325347Z"
    }
   },
   "outputs": [],
   "source": [
    "biale = pd.read_csv(\"../input/winequality-white.csv\", sep = \";\")"
   ]
  },
  {
   "cell_type": "code",
   "execution_count": null,
   "metadata": {
    "ExecuteTime": {
     "end_time": "2018-04-21T13:33:39.937193Z",
     "start_time": "2018-04-21T13:33:39.611965Z"
    }
   },
   "outputs": [],
   "source": [
    "biale.head()"
   ]
  },
  {
   "cell_type": "code",
   "execution_count": null,
   "metadata": {
    "ExecuteTime": {
     "end_time": "2018-04-21T13:33:40.035778Z",
     "start_time": "2018-04-21T13:33:39.947138Z"
    }
   },
   "outputs": [],
   "source": [
    "biale['premium'] = np.where(biale['quality']>=7, 1, 0)\n",
    "biale[\"premium\"].value_counts()"
   ]
  },
  {
   "cell_type": "code",
   "execution_count": null,
   "metadata": {
    "ExecuteTime": {
     "end_time": "2018-04-21T13:33:40.219717Z",
     "start_time": "2018-04-21T13:33:40.038921Z"
    }
   },
   "outputs": [],
   "source": [
    "y = biale[\"quality\"]\n",
    "X = biale.drop([\"quality\",\"premium\"], axis = 1)"
   ]
  },
  {
   "cell_type": "code",
   "execution_count": null,
   "metadata": {
    "ExecuteTime": {
     "end_time": "2018-04-21T13:33:40.417023Z",
     "start_time": "2018-04-21T13:33:40.223011Z"
    }
   },
   "outputs": [],
   "source": [
    "X_train, X_test, y_train, y_test = train_test_split(X, y, test_size=0.33, random_state=42)"
   ]
  },
  {
   "cell_type": "code",
   "execution_count": null,
   "metadata": {
    "ExecuteTime": {
     "end_time": "2018-04-21T13:33:40.518596Z",
     "start_time": "2018-04-21T13:33:40.426525Z"
    }
   },
   "outputs": [],
   "source": [
    "regresor = DecisionTreeRegressor()"
   ]
  },
  {
   "cell_type": "code",
   "execution_count": null,
   "metadata": {
    "ExecuteTime": {
     "end_time": "2018-04-21T13:33:40.682928Z",
     "start_time": "2018-04-21T13:33:40.521693Z"
    }
   },
   "outputs": [],
   "source": [
    "regresor.fit(X = X_train, y = y_train)"
   ]
  },
  {
   "cell_type": "code",
   "execution_count": null,
   "metadata": {
    "ExecuteTime": {
     "end_time": "2018-04-21T13:33:40.742951Z",
     "start_time": "2018-04-21T13:33:40.692543Z"
    }
   },
   "outputs": [],
   "source": [
    "y_pred = regresor.predict(X_test)\n",
    "mean_squared_error(y_true = y_test, y_pred = y_pred)"
   ]
  },
  {
   "cell_type": "code",
   "execution_count": null,
   "metadata": {
    "ExecuteTime": {
     "end_time": "2018-04-21T13:33:40.843665Z",
     "start_time": "2018-04-21T13:33:40.751374Z"
    }
   },
   "outputs": [],
   "source": [
    "tpot_config = {\n",
    "    'sklearn.tree.DecisionTreeRegressor': {\n",
    "        'max_depth': range(1, 11),\n",
    "        'min_samples_split': range(2, 21),\n",
    "        'min_samples_leaf': range(1, 21)\n",
    "    }\n",
    "}"
   ]
  },
  {
   "cell_type": "code",
   "execution_count": null,
   "metadata": {
    "ExecuteTime": {
     "end_time": "2018-04-21T13:34:01.443936Z",
     "start_time": "2018-04-21T13:33:40.852063Z"
    }
   },
   "outputs": [],
   "source": [
    "regresor = TPOTRegressor(verbosity = 1, population_size = 10, generations = 10, config_dict = tpot_config,\n",
    "                         random_state = 42)\n",
    "regresor.fit(features = X_train, target = y_train)"
   ]
  },
  {
   "cell_type": "code",
   "execution_count": null,
   "metadata": {
    "ExecuteTime": {
     "end_time": "2018-04-21T13:34:01.466567Z",
     "start_time": "2018-04-21T13:34:01.453131Z"
    }
   },
   "outputs": [],
   "source": [
    "regresor.fitted_pipeline_.named_steps"
   ]
  },
  {
   "cell_type": "code",
   "execution_count": null,
   "metadata": {
    "ExecuteTime": {
     "end_time": "2018-04-21T13:34:01.579489Z",
     "start_time": "2018-04-21T13:34:01.473369Z"
    }
   },
   "outputs": [],
   "source": [
    "regresor.export(\"../output/fitted-regr-dtr.py\")"
   ]
  },
  {
   "cell_type": "code",
   "execution_count": null,
   "metadata": {
    "ExecuteTime": {
     "end_time": "2018-04-21T13:34:01.748217Z",
     "start_time": "2018-04-21T13:34:01.582805Z"
    }
   },
   "outputs": [],
   "source": [
    "y_pred = regresor.predict(X_test)\n",
    "mean_squared_error(y_true = y_test, y_pred = y_pred)"
   ]
  },
  {
   "cell_type": "code",
   "execution_count": null,
   "metadata": {
    "ExecuteTime": {
     "end_time": "2018-04-21T13:46:10.021541Z",
     "start_time": "2018-04-21T13:34:01.752673Z"
    }
   },
   "outputs": [],
   "source": [
    "regresor = TPOTRegressor(verbosity = 1, population_size = 10, generations = 10, random_state = 42)\n",
    "regresor.fit(features = X_train, target = y_train)"
   ]
  },
  {
   "cell_type": "code",
   "execution_count": null,
   "metadata": {
    "ExecuteTime": {
     "end_time": "2018-04-21T13:46:10.044829Z",
     "start_time": "2018-04-21T13:46:10.031091Z"
    }
   },
   "outputs": [],
   "source": [
    "regresor.fitted_pipeline_.named_steps"
   ]
  },
  {
   "cell_type": "code",
   "execution_count": null,
   "metadata": {
    "ExecuteTime": {
     "end_time": "2018-04-21T13:46:10.160755Z",
     "start_time": "2018-04-21T13:46:10.053285Z"
    }
   },
   "outputs": [],
   "source": [
    "regresor.export(\"../output/fitted-regr-all.py\")"
   ]
  },
  {
   "cell_type": "code",
   "execution_count": null,
   "metadata": {
    "ExecuteTime": {
     "end_time": "2018-04-21T13:46:10.416517Z",
     "start_time": "2018-04-21T13:46:10.166196Z"
    }
   },
   "outputs": [],
   "source": [
    "y_pred = regresor.predict(X_test)\n",
    "mean_squared_error(y_true = y_test, y_pred = y_pred)"
   ]
  },
  {
   "cell_type": "code",
   "execution_count": null,
   "metadata": {
    "ExecuteTime": {
     "end_time": "2018-04-21T13:46:10.445469Z",
     "start_time": "2018-04-21T13:46:10.420044Z"
    }
   },
   "outputs": [],
   "source": [
    "y = biale[\"premium\"]\n",
    "X_train, X_test, y_train, y_test = train_test_split(X, y, test_size=0.33, random_state=42)"
   ]
  },
  {
   "cell_type": "code",
   "execution_count": null,
   "metadata": {
    "ExecuteTime": {
     "end_time": "2018-04-21T13:46:10.596617Z",
     "start_time": "2018-04-21T13:46:10.455303Z"
    }
   },
   "outputs": [],
   "source": [
    "klasyfikator = DecisionTreeClassifier()"
   ]
  },
  {
   "cell_type": "code",
   "execution_count": null,
   "metadata": {
    "ExecuteTime": {
     "end_time": "2018-04-21T13:46:10.888155Z",
     "start_time": "2018-04-21T13:46:10.602796Z"
    }
   },
   "outputs": [],
   "source": [
    "klasyfikator.fit(X = X_train, y = y_train)"
   ]
  },
  {
   "cell_type": "code",
   "execution_count": null,
   "metadata": {
    "ExecuteTime": {
     "end_time": "2018-04-21T13:46:10.954155Z",
     "start_time": "2018-04-21T13:46:10.895076Z"
    }
   },
   "outputs": [],
   "source": [
    "y_pred = klasyfikator.predict(X_test)\n",
    "accuracy_score(y_true = y_test, y_pred = y_pred)"
   ]
  },
  {
   "cell_type": "code",
   "execution_count": null,
   "metadata": {
    "ExecuteTime": {
     "end_time": "2018-04-21T13:46:11.045521Z",
     "start_time": "2018-04-21T13:46:10.965519Z"
    }
   },
   "outputs": [],
   "source": [
    "tpot_config = {\n",
    "    'sklearn.tree.DecisionTreeClassifier': {\n",
    "        'criterion': [\"gini\", \"entropy\"],\n",
    "        'max_depth': range(1, 11),\n",
    "        'min_samples_split': range(2, 21),\n",
    "        'min_samples_leaf': range(1, 21)\n",
    "    }\n",
    "}"
   ]
  },
  {
   "cell_type": "code",
   "execution_count": null,
   "metadata": {
    "ExecuteTime": {
     "end_time": "2018-04-21T13:46:38.369376Z",
     "start_time": "2018-04-21T13:46:11.051198Z"
    }
   },
   "outputs": [],
   "source": [
    "klasyfikator = TPOTClassifier(verbosity = 1, population_size = 10, generations = 10, config_dict = tpot_config, \n",
    "                              random_state = 42)\n",
    "klasyfikator.fit(features = X_train, target = y_train)"
   ]
  },
  {
   "cell_type": "code",
   "execution_count": null,
   "metadata": {
    "ExecuteTime": {
     "end_time": "2018-04-21T13:46:38.390335Z",
     "start_time": "2018-04-21T13:46:38.378513Z"
    }
   },
   "outputs": [],
   "source": [
    "klasyfikator.fitted_pipeline_.named_steps"
   ]
  },
  {
   "cell_type": "code",
   "execution_count": null,
   "metadata": {
    "ExecuteTime": {
     "end_time": "2018-04-21T13:46:38.542287Z",
     "start_time": "2018-04-21T13:46:38.397333Z"
    }
   },
   "outputs": [],
   "source": [
    "klasyfikator.export(\"../output/fitted-clas-dtc.py\")\n"
   ]
  },
  {
   "cell_type": "code",
   "execution_count": null,
   "metadata": {
    "ExecuteTime": {
     "end_time": "2018-04-21T13:46:38.660912Z",
     "start_time": "2018-04-21T13:46:38.549285Z"
    }
   },
   "outputs": [],
   "source": [
    "y_pred = klasyfikator.predict(X_test)\n",
    "accuracy_score(y_true = y_test, y_pred = y_pred)"
   ]
  },
  {
   "cell_type": "code",
   "execution_count": null,
   "metadata": {
    "ExecuteTime": {
     "end_time": "2018-04-21T13:53:22.838896Z",
     "start_time": "2018-04-21T13:46:38.665180Z"
    }
   },
   "outputs": [],
   "source": [
    "klasyfikator = TPOTClassifier(verbosity = 1, population_size = 10, generations = 10, random_state = 42)\n",
    "klasyfikator.fit(features = X_train, target = y_train)"
   ]
  },
  {
   "cell_type": "code",
   "execution_count": null,
   "metadata": {
    "ExecuteTime": {
     "end_time": "2018-04-21T13:53:22.865748Z",
     "start_time": "2018-04-21T13:53:22.849898Z"
    }
   },
   "outputs": [],
   "source": [
    "klasyfikator.fitted_pipeline_.named_steps"
   ]
  },
  {
   "cell_type": "code",
   "execution_count": null,
   "metadata": {
    "ExecuteTime": {
     "end_time": "2018-04-21T13:53:22.982648Z",
     "start_time": "2018-04-21T13:53:22.868575Z"
    }
   },
   "outputs": [],
   "source": [
    "klasyfikator.export(\"../output/fitted-clas-all.py\")"
   ]
  },
  {
   "cell_type": "code",
   "execution_count": null,
   "metadata": {
    "ExecuteTime": {
     "end_time": "2018-04-21T13:53:23.132765Z",
     "start_time": "2018-04-21T13:53:22.985957Z"
    }
   },
   "outputs": [],
   "source": [
    "y_pred = klasyfikator.predict(X_test)\n",
    "accuracy_score(y_true = y_test, y_pred = y_pred)"
   ]
  },
  {
   "cell_type": "code",
   "execution_count": null,
   "metadata": {
    "ExecuteTime": {
     "end_time": "2018-04-21T13:53:23.449157Z",
     "start_time": "2018-04-21T13:53:23.136990Z"
    }
   },
   "outputs": [],
   "source": [
    "def my_loss(y_true, y_pred): \n",
    "    return np.sum(y_true == y_pred) / len(y_true)\n",
    "\n",
    "my_loss(y_true = y_test, y_pred = y_pred)"
   ]
  },
  {
   "cell_type": "code",
   "execution_count": null,
   "metadata": {
    "ExecuteTime": {
     "end_time": "2018-04-21T13:53:23.595087Z",
     "start_time": "2018-04-21T13:53:23.452476Z"
    }
   },
   "outputs": [],
   "source": [
    "my_score = make_scorer(my_loss, greater_is_better=True)"
   ]
  },
  {
   "cell_type": "code",
   "execution_count": null,
   "metadata": {
    "ExecuteTime": {
     "end_time": "2018-04-21T13:53:23.752619Z",
     "start_time": "2018-04-21T13:53:23.598986Z"
    }
   },
   "outputs": [],
   "source": [
    "klasyfikator = TPOTClassifier(verbosity = 1, population_size = 10, generations = 10, scoring = my_score)"
   ]
  },
  {
   "cell_type": "code",
   "execution_count": null,
   "metadata": {},
   "outputs": [],
   "source": []
  },
  {
   "cell_type": "code",
   "execution_count": null,
   "metadata": {},
   "outputs": [],
   "source": []
  },
  {
   "cell_type": "code",
   "execution_count": null,
   "metadata": {},
   "outputs": [],
   "source": []
  },
  {
   "cell_type": "code",
   "execution_count": null,
   "metadata": {},
   "outputs": [],
   "source": []
  },
  {
   "cell_type": "code",
   "execution_count": null,
   "metadata": {},
   "outputs": [],
   "source": []
  }
 ],
 "metadata": {
  "kernelspec": {
   "display_name": "Python 3",
   "language": "python",
   "name": "python3"
  },
  "language_info": {
   "codemirror_mode": {
    "name": "ipython",
    "version": 3
   },
   "file_extension": ".py",
   "mimetype": "text/x-python",
   "name": "python",
   "nbconvert_exporter": "python",
   "pygments_lexer": "ipython3",
   "version": "3.6.5"
  }
 },
 "nbformat": 4,
 "nbformat_minor": 2
}
